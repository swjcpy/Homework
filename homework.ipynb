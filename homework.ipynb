{
 "cells": [
  {
   "cell_type": "markdown",
   "id": "02b2e942",
   "metadata": {},
   "source": [
    "# All my analysis is based on the assumption that the data has been cleaned and are accurate"
   ]
  },
  {
   "cell_type": "code",
   "execution_count": 1,
   "id": "e736f4ff",
   "metadata": {},
   "outputs": [],
   "source": [
    "import pandas as pd\n",
    "import matplotlib.pyplot as plt"
   ]
  },
  {
   "cell_type": "markdown",
   "id": "d09751a9",
   "metadata": {},
   "source": [
    "# Loading Data"
   ]
  },
  {
   "cell_type": "code",
   "execution_count": 2,
   "id": "401be9fb",
   "metadata": {},
   "outputs": [],
   "source": [
    "hospital_readmission = pd.read_csv(\"hospital-readmission.csv\")\n",
    "entity_data = pd.read_csv(\"entity_data.csv\")"
   ]
  },
  {
   "cell_type": "markdown",
   "id": "e0a37f8e",
   "metadata": {},
   "source": [
    "# Data preparation"
   ]
  },
  {
   "cell_type": "code",
   "execution_count": 3,
   "id": "30459a83",
   "metadata": {},
   "outputs": [
    {
     "data": {
      "text/html": [
       "<div>\n",
       "<style scoped>\n",
       "    .dataframe tbody tr th:only-of-type {\n",
       "        vertical-align: middle;\n",
       "    }\n",
       "\n",
       "    .dataframe tbody tr th {\n",
       "        vertical-align: top;\n",
       "    }\n",
       "\n",
       "    .dataframe thead th {\n",
       "        text-align: right;\n",
       "    }\n",
       "</style>\n",
       "<table border=\"1\" class=\"dataframe\">\n",
       "  <thead>\n",
       "    <tr style=\"text-align: right;\">\n",
       "      <th></th>\n",
       "      <th>race</th>\n",
       "      <th>gender</th>\n",
       "      <th>age</th>\n",
       "      <th>admission_type_id</th>\n",
       "      <th>discharge_disposition_id</th>\n",
       "      <th>admission_source_id</th>\n",
       "      <th>time_in_hospital</th>\n",
       "      <th>num_lab_procedures</th>\n",
       "      <th>num_procedures</th>\n",
       "      <th>num_medications</th>\n",
       "      <th>...</th>\n",
       "      <th>number_diagnoses</th>\n",
       "      <th>A1Cresult</th>\n",
       "      <th>insulin</th>\n",
       "      <th>change</th>\n",
       "      <th>diabetesMed</th>\n",
       "      <th>readmitted</th>\n",
       "      <th>ic9Groupname3</th>\n",
       "      <th>ic9Groupname2</th>\n",
       "      <th>physician_speciality</th>\n",
       "      <th>ic9Groupname</th>\n",
       "    </tr>\n",
       "  </thead>\n",
       "  <tbody>\n",
       "    <tr>\n",
       "      <th>0</th>\n",
       "      <td>Caucasian</td>\n",
       "      <td>Female</td>\n",
       "      <td>10-20</td>\n",
       "      <td>1</td>\n",
       "      <td>1</td>\n",
       "      <td>7</td>\n",
       "      <td>3</td>\n",
       "      <td>59</td>\n",
       "      <td>0</td>\n",
       "      <td>18</td>\n",
       "      <td>...</td>\n",
       "      <td>9</td>\n",
       "      <td>None</td>\n",
       "      <td>Up</td>\n",
       "      <td>Ch</td>\n",
       "      <td>Yes</td>\n",
       "      <td>0</td>\n",
       "      <td>Neoplasms</td>\n",
       "      <td>Diabeties</td>\n",
       "      <td>Unknown</td>\n",
       "      <td>Neoplasms</td>\n",
       "    </tr>\n",
       "    <tr>\n",
       "      <th>1</th>\n",
       "      <td>Caucasian</td>\n",
       "      <td>Male</td>\n",
       "      <td>30-40</td>\n",
       "      <td>1</td>\n",
       "      <td>1</td>\n",
       "      <td>7</td>\n",
       "      <td>2</td>\n",
       "      <td>44</td>\n",
       "      <td>1</td>\n",
       "      <td>16</td>\n",
       "      <td>...</td>\n",
       "      <td>7</td>\n",
       "      <td>None</td>\n",
       "      <td>Up</td>\n",
       "      <td>Ch</td>\n",
       "      <td>Yes</td>\n",
       "      <td>0</td>\n",
       "      <td>Circulatory</td>\n",
       "      <td>Diabeties</td>\n",
       "      <td>Unknown</td>\n",
       "      <td>Circulatory</td>\n",
       "    </tr>\n",
       "    <tr>\n",
       "      <th>2</th>\n",
       "      <td>Caucasian</td>\n",
       "      <td>Female</td>\n",
       "      <td>80-90</td>\n",
       "      <td>2</td>\n",
       "      <td>1</td>\n",
       "      <td>4</td>\n",
       "      <td>13</td>\n",
       "      <td>68</td>\n",
       "      <td>2</td>\n",
       "      <td>28</td>\n",
       "      <td>...</td>\n",
       "      <td>8</td>\n",
       "      <td>None</td>\n",
       "      <td>Steady</td>\n",
       "      <td>Ch</td>\n",
       "      <td>Yes</td>\n",
       "      <td>0</td>\n",
       "      <td>Other</td>\n",
       "      <td>Circulatory</td>\n",
       "      <td>Unknown</td>\n",
       "      <td>Circulatory</td>\n",
       "    </tr>\n",
       "    <tr>\n",
       "      <th>3</th>\n",
       "      <td>AfricanAmerican</td>\n",
       "      <td>Female</td>\n",
       "      <td>40-50</td>\n",
       "      <td>1</td>\n",
       "      <td>1</td>\n",
       "      <td>7</td>\n",
       "      <td>9</td>\n",
       "      <td>47</td>\n",
       "      <td>2</td>\n",
       "      <td>17</td>\n",
       "      <td>...</td>\n",
       "      <td>9</td>\n",
       "      <td>None</td>\n",
       "      <td>Steady</td>\n",
       "      <td>No</td>\n",
       "      <td>Yes</td>\n",
       "      <td>0</td>\n",
       "      <td>Injury</td>\n",
       "      <td>Circulatory</td>\n",
       "      <td>Unknown</td>\n",
       "      <td>Diabeties</td>\n",
       "    </tr>\n",
       "    <tr>\n",
       "      <th>4</th>\n",
       "      <td>Caucasian</td>\n",
       "      <td>Female</td>\n",
       "      <td>40-50</td>\n",
       "      <td>1</td>\n",
       "      <td>3</td>\n",
       "      <td>7</td>\n",
       "      <td>7</td>\n",
       "      <td>60</td>\n",
       "      <td>0</td>\n",
       "      <td>15</td>\n",
       "      <td>...</td>\n",
       "      <td>8</td>\n",
       "      <td>None</td>\n",
       "      <td>Down</td>\n",
       "      <td>Ch</td>\n",
       "      <td>Yes</td>\n",
       "      <td>1</td>\n",
       "      <td>Diabeties</td>\n",
       "      <td>Diabeties</td>\n",
       "      <td>Family Practice</td>\n",
       "      <td>Circulatory</td>\n",
       "    </tr>\n",
       "  </tbody>\n",
       "</table>\n",
       "<p>5 rows × 23 columns</p>\n",
       "</div>"
      ],
      "text/plain": [
       "              race  gender    age  admission_type_id  \\\n",
       "0        Caucasian  Female  10-20                  1   \n",
       "1        Caucasian    Male  30-40                  1   \n",
       "2        Caucasian  Female  80-90                  2   \n",
       "3  AfricanAmerican  Female  40-50                  1   \n",
       "4        Caucasian  Female  40-50                  1   \n",
       "\n",
       "   discharge_disposition_id  admission_source_id  time_in_hospital  \\\n",
       "0                         1                    7                 3   \n",
       "1                         1                    7                 2   \n",
       "2                         1                    4                13   \n",
       "3                         1                    7                 9   \n",
       "4                         3                    7                 7   \n",
       "\n",
       "   num_lab_procedures  num_procedures  num_medications  ...  number_diagnoses  \\\n",
       "0                  59               0               18  ...                 9   \n",
       "1                  44               1               16  ...                 7   \n",
       "2                  68               2               28  ...                 8   \n",
       "3                  47               2               17  ...                 9   \n",
       "4                  60               0               15  ...                 8   \n",
       "\n",
       "   A1Cresult  insulin  change diabetesMed readmitted ic9Groupname3  \\\n",
       "0       None       Up      Ch         Yes          0     Neoplasms   \n",
       "1       None       Up      Ch         Yes          0   Circulatory   \n",
       "2       None   Steady      Ch         Yes          0         Other   \n",
       "3       None   Steady      No         Yes          0        Injury   \n",
       "4       None     Down      Ch         Yes          1     Diabeties   \n",
       "\n",
       "  ic9Groupname2  physician_speciality ic9Groupname  \n",
       "0     Diabeties               Unknown    Neoplasms  \n",
       "1     Diabeties               Unknown  Circulatory  \n",
       "2   Circulatory               Unknown  Circulatory  \n",
       "3   Circulatory               Unknown    Diabeties  \n",
       "4     Diabeties       Family Practice  Circulatory  \n",
       "\n",
       "[5 rows x 23 columns]"
      ]
     },
     "execution_count": 3,
     "metadata": {},
     "output_type": "execute_result"
    }
   ],
   "source": [
    "hospital_readmission.head()"
   ]
  },
  {
   "cell_type": "code",
   "execution_count": 4,
   "id": "73eae518",
   "metadata": {},
   "outputs": [],
   "source": [
    "hospital_readmission[\"race\"] = hospital_readmission[\"race\"].fillna(\"other\")"
   ]
  },
  {
   "cell_type": "code",
   "execution_count": 5,
   "id": "38b3489a",
   "metadata": {},
   "outputs": [],
   "source": [
    "ic9_cols = [\"ic9Groupname\", \"ic9Groupname2\",\"ic9Groupname3\",]\n",
    "\n",
    "# Get unique values from [\"ic9Groupname\", \"ic9Groupname2\",\"ic9Groupname3\",]\n",
    "ic9Groupname_values = list(pd.unique(hospital_readmission[ic9_cols].values.ravel('K')))\n",
    "\n",
    "# Create ID for  [\"ic9Groupname\", \"ic9Groupname2\",\"ic9Groupname3\",]\n",
    "for i in range(len(ic9Groupname_values)):\n",
    "    hospital_readmission = hospital_readmission.apply(pd.Series.replace, to_replace=ic9Groupname_values[i], value=int(i))\n",
    "    \n",
    "# Change column type to category\n",
    "for col in ic9_cols:\n",
    "    hospital_readmission[col] = hospital_readmission[col].astype('category')"
   ]
  },
  {
   "cell_type": "markdown",
   "id": "d2273dc5",
   "metadata": {},
   "source": [
    "# Data Analysis"
   ]
  },
  {
   "cell_type": "markdown",
   "id": "ed0010d2",
   "metadata": {},
   "source": [
    "### 1. What percentage of Asian Male are readmitted?"
   ]
  },
  {
   "cell_type": "code",
   "execution_count": 6,
   "id": "05f14406",
   "metadata": {},
   "outputs": [
    {
     "name": "stdout",
     "output_type": "stream",
     "text": [
      "Percentage of Asian Male are readmitted 0.13793248678585718%\n"
     ]
    }
   ],
   "source": [
    "percentReadmitAsianMale = hospital_readmission[\n",
    "    (hospital_readmission[\"race\"] == \"Asian\") & \n",
    "    (hospital_readmission[\"readmitted\"] == 1) &\n",
    "    (hospital_readmission[\"gender\"] == \"Male\")\n",
    "].shape[0] / hospital_readmission.shape[0]\n",
    "\n",
    "print(\"Percentage of Asian Male are readmitted {}%\".format(percentReadmitAsianMale*100))"
   ]
  },
  {
   "cell_type": "markdown",
   "id": "a11ba12f",
   "metadata": {},
   "source": [
    "### 2. Show percentage of people readmitted by race and gender"
   ]
  },
  {
   "cell_type": "code",
   "execution_count": 7,
   "id": "55196da8",
   "metadata": {},
   "outputs": [],
   "source": [
    "def calc_readmit_percent(col_name):\n",
    "    values = list(hospital_readmission[col_name].unique())\n",
    "    percentReadmit = []\n",
    "\n",
    "    for value in values:\n",
    "        hr_col = hospital_readmission[hospital_readmission[col_name] == value]\n",
    "        total_num = hr_col.shape[0]\n",
    "        num_readmit = hr_col[hr_col[\"readmitted\"] == 1].shape[0]\n",
    "        percentReadmit.append(num_readmit/total_num*100)\n",
    "    \n",
    "    return (values, percentReadmit)"
   ]
  },
  {
   "cell_type": "code",
   "execution_count": 8,
   "id": "13bd5885",
   "metadata": {},
   "outputs": [
    {
     "data": {
      "text/plain": [
       "Text(0, 0.5, 'percent of readmitted')"
      ]
     },
     "execution_count": 8,
     "metadata": {},
     "output_type": "execute_result"
    },
    {
     "data": {
      "image/png": "[encoded data removed]",
      "text/plain": [
       "<Figure size 432x288 with 1 Axes>"
      ]
     },
     "metadata": {
      "needs_background": "light"
     },
     "output_type": "display_data"
    }
   ],
   "source": [
    "hospital_readmission[\"race\"] = hospital_readmission[\"race\"].astype(\"str\")\n",
    "race_result = calc_readmit_percent(\"race\")\n",
    "plt.bar(race_result[0], race_result[1])\n",
    "plt.xticks(rotation = 45)\n",
    "plt.xlabel(\"Race\")\n",
    "plt.ylabel(\"percent of readmitted\")"
   ]
  },
  {
   "cell_type": "code",
   "execution_count": 9,
   "id": "136f0bf3",
   "metadata": {},
   "outputs": [
    {
     "data": {
      "text/plain": [
       "Text(0, 0.5, 'percent of readmitted')"
      ]
     },
     "execution_count": 9,
     "metadata": {},
     "output_type": "execute_result"
    },
    {
     "data": {
      "image/png": "[encoded data removed]",
      "text/plain": [
       "<Figure size 432x288 with 1 Axes>"
      ]
     },
     "metadata": {
      "needs_background": "light"
     },
     "output_type": "display_data"
    }
   ],
   "source": [
    "gender_result = calc_readmit_percent(\"gender\")\n",
    "plt.bar(gender_result[0], gender_result[1])\n",
    "plt.xticks(rotation = 45)\n",
    "plt.xlabel(\"Gender\")\n",
    "plt.ylabel(\"percent of readmitted\")"
   ]
  },
  {
   "cell_type": "markdown",
   "id": "7131d8ff",
   "metadata": {},
   "source": [
    "### 3. Show percentage of people readmitted by age"
   ]
  },
  {
   "cell_type": "code",
   "execution_count": 10,
   "id": "cfbf34dd",
   "metadata": {},
   "outputs": [
    {
     "data": {
      "text/plain": [
       "Text(0, 0.5, 'percent of readmitted')"
      ]
     },
     "execution_count": 10,
     "metadata": {},
     "output_type": "execute_result"
    },
    {
     "data": {
      "image/png": "[encoded data removed]",
      "text/plain": [
       "<Figure size 432x288 with 1 Axes>"
      ]
     },
     "metadata": {
      "needs_background": "light"
     },
     "output_type": "display_data"
    }
   ],
   "source": [
    "age_result = calc_readmit_percent(\"age\")\n",
    "plt.bar(age_result[0], age_result[1])\n",
    "plt.xticks(rotation = 45)\n",
    "plt.xlabel(\"Age\")\n",
    "plt.ylabel(\"percent of readmitted\")"
   ]
  },
  {
   "cell_type": "markdown",
   "id": "1e6d7039",
   "metadata": {},
   "source": [
    "### 4. Show what percentage of ic9Groupname = “Circulatory” are readmitted?"
   ]
  },
  {
   "cell_type": "code",
   "execution_count": 11,
   "id": "99bc3760",
   "metadata": {},
   "outputs": [
    {
     "name": "stdout",
     "output_type": "stream",
     "text": [
      "Percentage of ic9Groupname = “Circulatory” are readmitted 11.444184724240317%\n"
     ]
    }
   ],
   "source": [
    "index = ic9Groupname_values.index(\"Circulatory\")\n",
    "\n",
    "percentReadmitCirculatory = hospital_readmission[\n",
    "    (hospital_readmission[\"ic9Groupname\"] == index) & \n",
    "    (hospital_readmission[\"readmitted\"] == 1)\n",
    "].shape[0] / hospital_readmission.shape[0]\n",
    "\n",
    "print(\"Percentage of ic9Groupname = “Circulatory” are readmitted {}%\".format(percentReadmitCirculatory*100))"
   ]
  },
  {
   "cell_type": "markdown",
   "id": "68035f27",
   "metadata": {},
   "source": [
    "# Entity_data.csv\n",
    "### Count the number of users by year?"
   ]
  },
  {
   "cell_type": "code",
   "execution_count": 12,
   "id": "13ea69dd",
   "metadata": {},
   "outputs": [
    {
     "data": {
      "text/html": [
       "<div>\n",
       "<style scoped>\n",
       "    .dataframe tbody tr th:only-of-type {\n",
       "        vertical-align: middle;\n",
       "    }\n",
       "\n",
       "    .dataframe tbody tr th {\n",
       "        vertical-align: top;\n",
       "    }\n",
       "\n",
       "    .dataframe thead th {\n",
       "        text-align: right;\n",
       "    }\n",
       "</style>\n",
       "<table border=\"1\" class=\"dataframe\">\n",
       "  <thead>\n",
       "    <tr style=\"text-align: right;\">\n",
       "      <th></th>\n",
       "      <th>id</th>\n",
       "      <th>name</th>\n",
       "      <th>year</th>\n",
       "      <th>gender</th>\n",
       "      <th>lon</th>\n",
       "      <th>lat</th>\n",
       "      <th>number</th>\n",
       "      <th>street</th>\n",
       "      <th>city</th>\n",
       "      <th>postcode</th>\n",
       "      <th>state</th>\n",
       "      <th>email</th>\n",
       "      <th>home_phone</th>\n",
       "      <th>mobile_phone</th>\n",
       "    </tr>\n",
       "  </thead>\n",
       "  <tbody>\n",
       "    <tr>\n",
       "      <th>0</th>\n",
       "      <td>0</td>\n",
       "      <td>george washington</td>\n",
       "      <td>1970</td>\n",
       "      <td>M</td>\n",
       "      <td>-77.229632</td>\n",
       "      <td>38.752401</td>\n",
       "      <td>7446</td>\n",
       "      <td>RIDGE RD</td>\n",
       "      <td>springfield</td>\n",
       "      <td>22153</td>\n",
       "      <td>va</td>\n",
       "      <td>washingtonjrjb598@yahoo.com</td>\n",
       "      <td>9383374259</td>\n",
       "      <td>2438766108</td>\n",
       "    </tr>\n",
       "    <tr>\n",
       "      <th>1</th>\n",
       "      <td>0</td>\n",
       "      <td>ashington  g</td>\n",
       "      <td>1969</td>\n",
       "      <td>M</td>\n",
       "      <td>-77.229632</td>\n",
       "      <td>38.752401</td>\n",
       "      <td>7446</td>\n",
       "      <td>IDGE RD</td>\n",
       "      <td>springfield</td>\n",
       "      <td>22153</td>\n",
       "      <td>va</td>\n",
       "      <td>washingtonjrjb598@yahoo.com</td>\n",
       "      <td>9383374259</td>\n",
       "      <td>2438766108</td>\n",
       "    </tr>\n",
       "    <tr>\n",
       "      <th>2</th>\n",
       "      <td>0</td>\n",
       "      <td>washington  george</td>\n",
       "      <td>1970</td>\n",
       "      <td>M</td>\n",
       "      <td>-77.229632</td>\n",
       "      <td>38.752401</td>\n",
       "      <td>7446</td>\n",
       "      <td>RIDGE RD</td>\n",
       "      <td>springfield</td>\n",
       "      <td>22153</td>\n",
       "      <td>va</td>\n",
       "      <td>washingtonjrjb598@yahoo.com</td>\n",
       "      <td>9383374259</td>\n",
       "      <td>2438766108</td>\n",
       "    </tr>\n",
       "    <tr>\n",
       "      <th>3</th>\n",
       "      <td>0</td>\n",
       "      <td>g  washington</td>\n",
       "      <td>1967</td>\n",
       "      <td>M</td>\n",
       "      <td>-77.229632</td>\n",
       "      <td>38.752401</td>\n",
       "      <td>7446</td>\n",
       "      <td>RIDG RD</td>\n",
       "      <td>springfield</td>\n",
       "      <td>22153</td>\n",
       "      <td>va</td>\n",
       "      <td>washingtonjrjb598@yahoo.com</td>\n",
       "      <td>9383374259</td>\n",
       "      <td>2438766108</td>\n",
       "    </tr>\n",
       "    <tr>\n",
       "      <th>4</th>\n",
       "      <td>1</td>\n",
       "      <td>douglas adams</td>\n",
       "      <td>1961</td>\n",
       "      <td>M</td>\n",
       "      <td>-94.586227</td>\n",
       "      <td>39.073195</td>\n",
       "      <td>2933</td>\n",
       "      <td>BALTIMORE AVE</td>\n",
       "      <td>kansas city</td>\n",
       "      <td>64108</td>\n",
       "      <td>mo</td>\n",
       "      <td>tkls161727n6400s700r@gmail.com</td>\n",
       "      <td>3417265516</td>\n",
       "      <td>4685339969</td>\n",
       "    </tr>\n",
       "  </tbody>\n",
       "</table>\n",
       "</div>"
      ],
      "text/plain": [
       "   id                name  year gender        lon        lat number  \\\n",
       "0   0   george washington  1970      M -77.229632  38.752401   7446   \n",
       "1   0        ashington  g  1969      M -77.229632  38.752401   7446   \n",
       "2   0  washington  george  1970      M -77.229632  38.752401   7446   \n",
       "3   0       g  washington  1967      M -77.229632  38.752401   7446   \n",
       "4   1       douglas adams  1961      M -94.586227  39.073195   2933   \n",
       "\n",
       "          street         city postcode state                           email  \\\n",
       "0       RIDGE RD  springfield    22153    va     washingtonjrjb598@yahoo.com   \n",
       "1        IDGE RD  springfield    22153    va     washingtonjrjb598@yahoo.com   \n",
       "2       RIDGE RD  springfield    22153    va     washingtonjrjb598@yahoo.com   \n",
       "3        RIDG RD  springfield    22153    va     washingtonjrjb598@yahoo.com   \n",
       "4  BALTIMORE AVE  kansas city    64108    mo  tkls161727n6400s700r@gmail.com   \n",
       "\n",
       "   home_phone  mobile_phone  \n",
       "0  9383374259    2438766108  \n",
       "1  9383374259    2438766108  \n",
       "2  9383374259    2438766108  \n",
       "3  9383374259    2438766108  \n",
       "4  3417265516    4685339969  "
      ]
     },
     "execution_count": 12,
     "metadata": {},
     "output_type": "execute_result"
    }
   ],
   "source": [
    "entity_data.head()"
   ]
  },
  {
   "cell_type": "code",
   "execution_count": 13,
   "id": "ba0812fe",
   "metadata": {},
   "outputs": [
    {
     "name": "stdout",
     "output_type": "stream",
     "text": [
      "year\n",
      "0        14\n",
      "1        10\n",
      "2         6\n",
      "3        14\n",
      "4        10\n",
      "         ..\n",
      "92005     3\n",
      "92006     2\n",
      "92007     4\n",
      "92008     2\n",
      "92009     4\n",
      "Length: 1544, dtype: int64\n"
     ]
    }
   ],
   "source": [
    "print(entity_data.groupby(\"year\").size())"
   ]
  },
  {
   "cell_type": "markdown",
   "id": "51f6b317",
   "metadata": {},
   "source": [
    "### Count the number of users by year and gender?"
   ]
  },
  {
   "cell_type": "code",
   "execution_count": 14,
   "id": "a702581b",
   "metadata": {},
   "outputs": [
    {
     "name": "stdout",
     "output_type": "stream",
     "text": [
      "year   gender\n",
      "0      F         5\n",
      "       M         9\n",
      "1      F         4\n",
      "       M         6\n",
      "2      F         4\n",
      "                ..\n",
      "92007  F         3\n",
      "       M         1\n",
      "92008  F         1\n",
      "       M         1\n",
      "92009  F         4\n",
      "Length: 2245, dtype: int64\n"
     ]
    }
   ],
   "source": [
    "print(entity_data.groupby([\"year\", \"gender\"]).size())"
   ]
  },
  {
   "cell_type": "markdown",
   "id": "a4fd1294",
   "metadata": {},
   "source": [
    "### Count the number of users by State?"
   ]
  },
  {
   "cell_type": "code",
   "execution_count": 15,
   "id": "6fb7f2f5",
   "metadata": {},
   "outputs": [
    {
     "name": "stdout",
     "output_type": "stream",
     "text": [
      "state\n",
      "ak      1959\n",
      "az     28758\n",
      "ca    114078\n",
      "co     21887\n",
      "ct       365\n",
      "hi         6\n",
      "ia      1555\n",
      "id       911\n",
      "il     21267\n",
      "in      4952\n",
      "ks     16464\n",
      "ky      7869\n",
      "la     12223\n",
      "ma     25178\n",
      "md      9430\n",
      "mi     14619\n",
      "mn     12319\n",
      "mo     18719\n",
      "ms       917\n",
      "mt      2881\n",
      "nc     14918\n",
      "nd      1585\n",
      "ne      5653\n",
      "nh      3003\n",
      "nj     10060\n",
      "nm        13\n",
      "nv        39\n",
      "ny     26039\n",
      "oh     31543\n",
      "ok      8599\n",
      "or     18896\n",
      "pa      5671\n",
      "ri      2885\n",
      "sc      5010\n",
      "sd      1373\n",
      "tn      6649\n",
      "tx     82934\n",
      "ut      5668\n",
      "va     30786\n",
      "vt      1050\n",
      "wa     19802\n",
      "wi     13417\n",
      "wv      1922\n",
      "dtype: int64\n"
     ]
    }
   ],
   "source": [
    "print(entity_data.groupby([\"state\"]).size())"
   ]
  },
  {
   "cell_type": "markdown",
   "id": "cff10c47",
   "metadata": {},
   "source": [
    "### Top ten zip codes with the highest population."
   ]
  },
  {
   "cell_type": "code",
   "execution_count": 16,
   "id": "cb4928d9",
   "metadata": {},
   "outputs": [
    {
     "name": "stdout",
     "output_type": "stream",
     "text": [
      "state\n",
      "ca    114078\n",
      "tx     82934\n",
      "oh     31543\n",
      "va     30786\n",
      "az     28758\n",
      "ny     26039\n",
      "ma     25178\n",
      "co     21887\n",
      "il     21267\n",
      "wa     19802\n",
      "dtype: int64\n"
     ]
    }
   ],
   "source": [
    "print(entity_data.groupby([\"state\"]).size().sort_values(ascending=False)[:10])"
   ]
  },
  {
   "cell_type": "code",
   "execution_count": null,
   "id": "7d5cbe4a",
   "metadata": {},
   "outputs": [],
   "source": []
  }
 ],
 "metadata": {
  "kernelspec": {
   "display_name": "conda_python3",
   "language": "python",
   "name": "conda_python3"
  },
  "language_info": {
   "codemirror_mode": {
    "name": "ipython",
    "version": 3
   },
   "file_extension": ".py",
   "mimetype": "text/x-python",
   "name": "python",
   "nbconvert_exporter": "python",
   "pygments_lexer": "ipython3",
   "version": "3.6.13"
  }
 },
 "nbformat": 4,
 "nbformat_minor": 5
}
